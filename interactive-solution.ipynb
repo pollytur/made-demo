{
 "cells": [
  {
   "cell_type": "markdown",
   "metadata": {},
   "source": [
    "This work is done by Polina Turishcheva, December 2020"
   ]
  },
  {
   "cell_type": "markdown",
   "metadata": {},
   "source": [
    "## Dependencies installation"
   ]
  },
  {
   "cell_type": "code",
   "execution_count": 2,
   "metadata": {},
   "outputs": [
    {
     "name": "stdout",
     "output_type": "stream",
     "text": [
      "Requirement already satisfied: plotly in /Users/polinaturiseva/anaconda3/lib/python3.7/site-packages (4.1.1)\n",
      "Requirement already satisfied: six in /Users/polinaturiseva/anaconda3/lib/python3.7/site-packages (from plotly) (1.11.0)\n",
      "Requirement already satisfied: retrying>=1.3.3 in /Users/polinaturiseva/anaconda3/lib/python3.7/site-packages (from plotly) (1.3.3)\n",
      "\u001b[33mWARNING: You are using pip version 20.2.2; however, version 20.3.3 is available.\n",
      "You should consider upgrading via the '/Users/polinaturiseva/anaconda3/bin/python -m pip install --upgrade pip' command.\u001b[0m\n"
     ]
    }
   ],
   "source": [
    "!pip install plotly"
   ]
  },
  {
   "cell_type": "code",
   "execution_count": 50,
   "metadata": {},
   "outputs": [
    {
     "name": "stdout",
     "output_type": "stream",
     "text": [
      "Requirement already satisfied: lightgbm in /Users/polinaturiseva/anaconda3/lib/python3.7/site-packages (3.1.1)\n",
      "Requirement already satisfied: wheel in /Users/polinaturiseva/anaconda3/lib/python3.7/site-packages (from lightgbm) (0.31.1)\n",
      "Requirement already satisfied: scipy in /Users/polinaturiseva/anaconda3/lib/python3.7/site-packages (from lightgbm) (1.5.4)\n",
      "Requirement already satisfied: numpy in /Users/polinaturiseva/anaconda3/lib/python3.7/site-packages (from lightgbm) (1.17.3)\n",
      "Requirement already satisfied: scikit-learn!=0.22.0 in /Users/polinaturiseva/anaconda3/lib/python3.7/site-packages (from lightgbm) (0.23.2)\n",
      "Requirement already satisfied: joblib>=0.11 in /Users/polinaturiseva/anaconda3/lib/python3.7/site-packages (from scikit-learn!=0.22.0->lightgbm) (0.15.1)\n",
      "Requirement already satisfied: threadpoolctl>=2.0.0 in /Users/polinaturiseva/anaconda3/lib/python3.7/site-packages (from scikit-learn!=0.22.0->lightgbm) (2.1.0)\n",
      "\u001b[33mWARNING: You are using pip version 20.2.2; however, version 20.3.3 is available.\n",
      "You should consider upgrading via the '/Users/polinaturiseva/anaconda3/bin/python -m pip install --upgrade pip' command.\u001b[0m\n"
     ]
    }
   ],
   "source": [
    "!pip install lightgbm"
   ]
  },
  {
   "cell_type": "code",
   "execution_count": 9,
   "metadata": {},
   "outputs": [
    {
     "name": "stdout",
     "output_type": "stream",
     "text": [
      "Requirement already satisfied: folium in /Users/polinaturiseva/anaconda3/lib/python3.7/site-packages (0.10.0)\n",
      "Requirement already satisfied: branca>=0.3.0 in /Users/polinaturiseva/anaconda3/lib/python3.7/site-packages (from folium) (0.3.1)\n",
      "Requirement already satisfied: jinja2>=2.9 in /Users/polinaturiseva/anaconda3/lib/python3.7/site-packages (from folium) (2.11.2)\n",
      "Requirement already satisfied: requests in /Users/polinaturiseva/anaconda3/lib/python3.7/site-packages (from folium) (2.25.1)\n",
      "Requirement already satisfied: numpy in /Users/polinaturiseva/anaconda3/lib/python3.7/site-packages (from folium) (1.17.3)\n",
      "Requirement already satisfied: six in /Users/polinaturiseva/anaconda3/lib/python3.7/site-packages (from branca>=0.3.0->folium) (1.11.0)\n",
      "Requirement already satisfied: MarkupSafe>=0.23 in /Users/polinaturiseva/anaconda3/lib/python3.7/site-packages (from jinja2>=2.9->folium) (1.0)\n",
      "Requirement already satisfied: urllib3<1.27,>=1.21.1 in /Users/polinaturiseva/anaconda3/lib/python3.7/site-packages (from requests->folium) (1.23)\n",
      "Requirement already satisfied: chardet<5,>=3.0.2 in /Users/polinaturiseva/anaconda3/lib/python3.7/site-packages (from requests->folium) (3.0.4)\n",
      "Requirement already satisfied: certifi>=2017.4.17 in /Users/polinaturiseva/anaconda3/lib/python3.7/site-packages (from requests->folium) (2020.6.20)\n",
      "Requirement already satisfied: idna<3,>=2.5 in /Users/polinaturiseva/anaconda3/lib/python3.7/site-packages (from requests->folium) (2.7)\n"
     ]
    }
   ],
   "source": [
    "!pip install folium"
   ]
  },
  {
   "cell_type": "code",
   "execution_count": 2,
   "metadata": {
    "scrolled": false
   },
   "outputs": [
    {
     "name": "stdout",
     "output_type": "stream",
     "text": [
      "Requirement already satisfied: pandas_profiling in /Users/polinaturiseva/anaconda3/lib/python3.7/site-packages (2.9.0)\n",
      "Requirement already satisfied: numpy>=1.16.0 in /Users/polinaturiseva/anaconda3/lib/python3.7/site-packages (from pandas_profiling) (1.17.3)\n",
      "Requirement already satisfied: joblib in /Users/polinaturiseva/anaconda3/lib/python3.7/site-packages (from pandas_profiling) (0.15.1)\n",
      "Requirement already satisfied: attrs>=19.3.0 in /Users/polinaturiseva/anaconda3/lib/python3.7/site-packages (from pandas_profiling) (20.3.0)\n",
      "Requirement already satisfied: htmlmin>=0.1.12 in /Users/polinaturiseva/anaconda3/lib/python3.7/site-packages (from pandas_profiling) (0.1.12)\n",
      "Requirement already satisfied: tqdm>=4.43.0 in /Users/polinaturiseva/anaconda3/lib/python3.7/site-packages (from pandas_profiling) (4.55.0)\n",
      "Requirement already satisfied: phik>=0.9.10 in /Users/polinaturiseva/anaconda3/lib/python3.7/site-packages (from pandas_profiling) (0.10.0)\n",
      "Requirement already satisfied: requests>=2.23.0 in /Users/polinaturiseva/anaconda3/lib/python3.7/site-packages (from pandas_profiling) (2.25.1)\n",
      "Requirement already satisfied: confuse>=1.0.0 in /Users/polinaturiseva/anaconda3/lib/python3.7/site-packages (from pandas_profiling) (1.4.0)\n",
      "Requirement already satisfied: seaborn>=0.10.1 in /Users/polinaturiseva/anaconda3/lib/python3.7/site-packages (from pandas_profiling) (0.11.1)\n",
      "Requirement already satisfied: visions[type_image_path]==0.5.0 in /Users/polinaturiseva/anaconda3/lib/python3.7/site-packages (from pandas_profiling) (0.5.0)\n",
      "Requirement already satisfied: missingno>=0.4.2 in /Users/polinaturiseva/anaconda3/lib/python3.7/site-packages (from pandas_profiling) (0.4.2)\n",
      "Requirement already satisfied: scipy>=1.4.1 in /Users/polinaturiseva/anaconda3/lib/python3.7/site-packages (from pandas_profiling) (1.5.4)\n",
      "Requirement already satisfied: ipywidgets>=7.5.1 in /Users/polinaturiseva/anaconda3/lib/python3.7/site-packages (from pandas_profiling) (7.6.2)\n",
      "Requirement already satisfied: jinja2>=2.11.1 in /Users/polinaturiseva/anaconda3/lib/python3.7/site-packages (from pandas_profiling) (2.11.2)\n",
      "Requirement already satisfied: pandas!=1.0.0,!=1.0.1,!=1.0.2,!=1.1.0,>=0.25.3 in /Users/polinaturiseva/anaconda3/lib/python3.7/site-packages (from pandas_profiling) (1.1.2)\n",
      "Requirement already satisfied: matplotlib>=3.2.0 in /Users/polinaturiseva/anaconda3/lib/python3.7/site-packages (from pandas_profiling) (3.3.2)\n",
      "Requirement already satisfied: tangled-up-in-unicode>=0.0.6 in /Users/polinaturiseva/anaconda3/lib/python3.7/site-packages (from pandas_profiling) (0.0.6)\n",
      "Requirement already satisfied: numba>=0.38.1 in /Users/polinaturiseva/anaconda3/lib/python3.7/site-packages (from phik>=0.9.10->pandas_profiling) (0.39.0)\n",
      "Requirement already satisfied: idna<3,>=2.5 in /Users/polinaturiseva/anaconda3/lib/python3.7/site-packages (from requests>=2.23.0->pandas_profiling) (2.7)\n",
      "Requirement already satisfied: chardet<5,>=3.0.2 in /Users/polinaturiseva/anaconda3/lib/python3.7/site-packages (from requests>=2.23.0->pandas_profiling) (3.0.4)\n",
      "Requirement already satisfied: urllib3<1.27,>=1.21.1 in /Users/polinaturiseva/anaconda3/lib/python3.7/site-packages (from requests>=2.23.0->pandas_profiling) (1.23)\n",
      "Requirement already satisfied: certifi>=2017.4.17 in /Users/polinaturiseva/anaconda3/lib/python3.7/site-packages (from requests>=2.23.0->pandas_profiling) (2020.6.20)\n",
      "Requirement already satisfied: pyyaml in /Users/polinaturiseva/anaconda3/lib/python3.7/site-packages (from confuse>=1.0.0->pandas_profiling) (3.13)\n",
      "Requirement already satisfied: networkx>=2.4 in /Users/polinaturiseva/anaconda3/lib/python3.7/site-packages (from visions[type_image_path]==0.5.0->pandas_profiling) (2.4)\n",
      "Requirement already satisfied: Pillow; extra == \"type_image_path\" in /Users/polinaturiseva/anaconda3/lib/python3.7/site-packages (from visions[type_image_path]==0.5.0->pandas_profiling) (7.2.0)\n",
      "Requirement already satisfied: imagehash; extra == \"type_image_path\" in /Users/polinaturiseva/anaconda3/lib/python3.7/site-packages (from visions[type_image_path]==0.5.0->pandas_profiling) (4.2.0)\n",
      "Requirement already satisfied: widgetsnbextension~=3.5.0 in /Users/polinaturiseva/anaconda3/lib/python3.7/site-packages (from ipywidgets>=7.5.1->pandas_profiling) (3.5.1)\n",
      "Requirement already satisfied: ipykernel>=4.5.1 in /Users/polinaturiseva/anaconda3/lib/python3.7/site-packages (from ipywidgets>=7.5.1->pandas_profiling) (4.9.0)\n",
      "Requirement already satisfied: traitlets>=4.3.1 in /Users/polinaturiseva/anaconda3/lib/python3.7/site-packages (from ipywidgets>=7.5.1->pandas_profiling) (4.3.2)\n",
      "Requirement already satisfied: jupyterlab-widgets>=1.0.0; python_version >= \"3.5\" in /Users/polinaturiseva/anaconda3/lib/python3.7/site-packages (from ipywidgets>=7.5.1->pandas_profiling) (1.0.0)\n",
      "Requirement already satisfied: ipython>=4.0.0; python_version >= \"3.3\" in /Users/polinaturiseva/anaconda3/lib/python3.7/site-packages (from ipywidgets>=7.5.1->pandas_profiling) (6.5.0)\n",
      "Requirement already satisfied: nbformat>=4.2.0 in /Users/polinaturiseva/anaconda3/lib/python3.7/site-packages (from ipywidgets>=7.5.1->pandas_profiling) (4.4.0)\n",
      "Requirement already satisfied: MarkupSafe>=0.23 in /Users/polinaturiseva/anaconda3/lib/python3.7/site-packages (from jinja2>=2.11.1->pandas_profiling) (1.0)\n",
      "Requirement already satisfied: pytz>=2017.2 in /Users/polinaturiseva/anaconda3/lib/python3.7/site-packages (from pandas!=1.0.0,!=1.0.1,!=1.0.2,!=1.1.0,>=0.25.3->pandas_profiling) (2018.5)\n",
      "Requirement already satisfied: python-dateutil>=2.7.3 in /Users/polinaturiseva/anaconda3/lib/python3.7/site-packages (from pandas!=1.0.0,!=1.0.1,!=1.0.2,!=1.1.0,>=0.25.3->pandas_profiling) (2.7.3)\n",
      "Requirement already satisfied: pyparsing!=2.0.4,!=2.1.2,!=2.1.6,>=2.0.3 in /Users/polinaturiseva/anaconda3/lib/python3.7/site-packages (from matplotlib>=3.2.0->pandas_profiling) (2.2.0)\n",
      "Requirement already satisfied: kiwisolver>=1.0.1 in /Users/polinaturiseva/anaconda3/lib/python3.7/site-packages (from matplotlib>=3.2.0->pandas_profiling) (1.2.0)\n",
      "Requirement already satisfied: cycler>=0.10 in /Users/polinaturiseva/anaconda3/lib/python3.7/site-packages (from matplotlib>=3.2.0->pandas_profiling) (0.10.0)\n",
      "Requirement already satisfied: llvmlite>=0.24.0dev0 in /Users/polinaturiseva/anaconda3/lib/python3.7/site-packages (from numba>=0.38.1->phik>=0.9.10->pandas_profiling) (0.24.0)\n",
      "Requirement already satisfied: decorator>=4.3.0 in /Users/polinaturiseva/anaconda3/lib/python3.7/site-packages (from networkx>=2.4->visions[type_image_path]==0.5.0->pandas_profiling) (4.3.0)\n",
      "Requirement already satisfied: PyWavelets in /Users/polinaturiseva/anaconda3/lib/python3.7/site-packages (from imagehash; extra == \"type_image_path\"->visions[type_image_path]==0.5.0->pandas_profiling) (1.1.1)\n",
      "Requirement already satisfied: six in /Users/polinaturiseva/anaconda3/lib/python3.7/site-packages (from imagehash; extra == \"type_image_path\"->visions[type_image_path]==0.5.0->pandas_profiling) (1.11.0)\n",
      "Requirement already satisfied: notebook>=4.4.1 in /Users/polinaturiseva/anaconda3/lib/python3.7/site-packages (from widgetsnbextension~=3.5.0->ipywidgets>=7.5.1->pandas_profiling) (5.6.0)\n",
      "Requirement already satisfied: jupyter_client in /Users/polinaturiseva/anaconda3/lib/python3.7/site-packages (from ipykernel>=4.5.1->ipywidgets>=7.5.1->pandas_profiling) (5.2.3)\n",
      "Requirement already satisfied: tornado>=4.0 in /Users/polinaturiseva/anaconda3/lib/python3.7/site-packages (from ipykernel>=4.5.1->ipywidgets>=7.5.1->pandas_profiling) (5.1)\n",
      "Requirement already satisfied: ipython-genutils in /Users/polinaturiseva/anaconda3/lib/python3.7/site-packages (from traitlets>=4.3.1->ipywidgets>=7.5.1->pandas_profiling) (0.2.0)\n",
      "Requirement already satisfied: simplegeneric>0.8 in /Users/polinaturiseva/anaconda3/lib/python3.7/site-packages (from ipython>=4.0.0; python_version >= \"3.3\"->ipywidgets>=7.5.1->pandas_profiling) (0.8.1)\n",
      "Requirement already satisfied: setuptools>=18.5 in /Users/polinaturiseva/anaconda3/lib/python3.7/site-packages (from ipython>=4.0.0; python_version >= \"3.3\"->ipywidgets>=7.5.1->pandas_profiling) (41.6.0)\n",
      "Requirement already satisfied: jedi>=0.10 in /Users/polinaturiseva/anaconda3/lib/python3.7/site-packages (from ipython>=4.0.0; python_version >= \"3.3\"->ipywidgets>=7.5.1->pandas_profiling) (0.12.1)\n",
      "Requirement already satisfied: pexpect; sys_platform != \"win32\" in /Users/polinaturiseva/anaconda3/lib/python3.7/site-packages (from ipython>=4.0.0; python_version >= \"3.3\"->ipywidgets>=7.5.1->pandas_profiling) (4.6.0)\n",
      "Requirement already satisfied: pygments in /Users/polinaturiseva/anaconda3/lib/python3.7/site-packages (from ipython>=4.0.0; python_version >= \"3.3\"->ipywidgets>=7.5.1->pandas_profiling) (2.2.0)\n",
      "Requirement already satisfied: appnope; sys_platform == \"darwin\" in /Users/polinaturiseva/anaconda3/lib/python3.7/site-packages (from ipython>=4.0.0; python_version >= \"3.3\"->ipywidgets>=7.5.1->pandas_profiling) (0.1.0)\n",
      "Requirement already satisfied: pickleshare in /Users/polinaturiseva/anaconda3/lib/python3.7/site-packages (from ipython>=4.0.0; python_version >= \"3.3\"->ipywidgets>=7.5.1->pandas_profiling) (0.7.4)\n",
      "Requirement already satisfied: prompt-toolkit<2.0.0,>=1.0.15 in /Users/polinaturiseva/anaconda3/lib/python3.7/site-packages (from ipython>=4.0.0; python_version >= \"3.3\"->ipywidgets>=7.5.1->pandas_profiling) (1.0.15)\n",
      "Requirement already satisfied: backcall in /Users/polinaturiseva/anaconda3/lib/python3.7/site-packages (from ipython>=4.0.0; python_version >= \"3.3\"->ipywidgets>=7.5.1->pandas_profiling) (0.1.0)\n",
      "Requirement already satisfied: jsonschema!=2.5.0,>=2.4 in /Users/polinaturiseva/anaconda3/lib/python3.7/site-packages (from nbformat>=4.2.0->ipywidgets>=7.5.1->pandas_profiling) (2.6.0)\n",
      "Requirement already satisfied: jupyter-core in /Users/polinaturiseva/anaconda3/lib/python3.7/site-packages (from nbformat>=4.2.0->ipywidgets>=7.5.1->pandas_profiling) (4.4.0)\n",
      "Requirement already satisfied: nbconvert in /Users/polinaturiseva/anaconda3/lib/python3.7/site-packages (from notebook>=4.4.1->widgetsnbextension~=3.5.0->ipywidgets>=7.5.1->pandas_profiling) (5.4.0)\n",
      "Requirement already satisfied: pyzmq>=17 in /Users/polinaturiseva/anaconda3/lib/python3.7/site-packages (from notebook>=4.4.1->widgetsnbextension~=3.5.0->ipywidgets>=7.5.1->pandas_profiling) (18.1.1)\n"
     ]
    },
    {
     "name": "stdout",
     "output_type": "stream",
     "text": [
      "Requirement already satisfied: Send2Trash in /Users/polinaturiseva/anaconda3/lib/python3.7/site-packages (from notebook>=4.4.1->widgetsnbextension~=3.5.0->ipywidgets>=7.5.1->pandas_profiling) (1.5.0)\n",
      "Requirement already satisfied: prometheus-client in /Users/polinaturiseva/anaconda3/lib/python3.7/site-packages (from notebook>=4.4.1->widgetsnbextension~=3.5.0->ipywidgets>=7.5.1->pandas_profiling) (0.3.1)\n",
      "Requirement already satisfied: terminado>=0.8.1 in /Users/polinaturiseva/anaconda3/lib/python3.7/site-packages (from notebook>=4.4.1->widgetsnbextension~=3.5.0->ipywidgets>=7.5.1->pandas_profiling) (0.8.1)\n",
      "Requirement already satisfied: parso>=0.3.0 in /Users/polinaturiseva/anaconda3/lib/python3.7/site-packages (from jedi>=0.10->ipython>=4.0.0; python_version >= \"3.3\"->ipywidgets>=7.5.1->pandas_profiling) (0.3.1)\n",
      "Requirement already satisfied: ptyprocess>=0.5 in /Users/polinaturiseva/anaconda3/lib/python3.7/site-packages (from pexpect; sys_platform != \"win32\"->ipython>=4.0.0; python_version >= \"3.3\"->ipywidgets>=7.5.1->pandas_profiling) (0.6.0)\n",
      "Requirement already satisfied: wcwidth in /Users/polinaturiseva/anaconda3/lib/python3.7/site-packages (from prompt-toolkit<2.0.0,>=1.0.15->ipython>=4.0.0; python_version >= \"3.3\"->ipywidgets>=7.5.1->pandas_profiling) (0.1.7)\n",
      "Requirement already satisfied: mistune>=0.8.1 in /Users/polinaturiseva/anaconda3/lib/python3.7/site-packages (from nbconvert->notebook>=4.4.1->widgetsnbextension~=3.5.0->ipywidgets>=7.5.1->pandas_profiling) (0.8.3)\n",
      "Requirement already satisfied: entrypoints>=0.2.2 in /Users/polinaturiseva/anaconda3/lib/python3.7/site-packages (from nbconvert->notebook>=4.4.1->widgetsnbextension~=3.5.0->ipywidgets>=7.5.1->pandas_profiling) (0.2.3)\n",
      "Requirement already satisfied: bleach in /Users/polinaturiseva/anaconda3/lib/python3.7/site-packages (from nbconvert->notebook>=4.4.1->widgetsnbextension~=3.5.0->ipywidgets>=7.5.1->pandas_profiling) (2.1.4)\n",
      "Requirement already satisfied: pandocfilters>=1.4.1 in /Users/polinaturiseva/anaconda3/lib/python3.7/site-packages (from nbconvert->notebook>=4.4.1->widgetsnbextension~=3.5.0->ipywidgets>=7.5.1->pandas_profiling) (1.4.2)\n",
      "Requirement already satisfied: testpath in /Users/polinaturiseva/anaconda3/lib/python3.7/site-packages (from nbconvert->notebook>=4.4.1->widgetsnbextension~=3.5.0->ipywidgets>=7.5.1->pandas_profiling) (0.3.1)\n",
      "Requirement already satisfied: defusedxml in /Users/polinaturiseva/anaconda3/lib/python3.7/site-packages (from nbconvert->notebook>=4.4.1->widgetsnbextension~=3.5.0->ipywidgets>=7.5.1->pandas_profiling) (0.5.0)\n",
      "Requirement already satisfied: html5lib!=1.0b1,!=1.0b2,!=1.0b3,!=1.0b4,!=1.0b5,!=1.0b6,!=1.0b7,!=1.0b8,>=0.99999999pre in /Users/polinaturiseva/anaconda3/lib/python3.7/site-packages (from bleach->nbconvert->notebook>=4.4.1->widgetsnbextension~=3.5.0->ipywidgets>=7.5.1->pandas_profiling) (1.0.1)\n",
      "Requirement already satisfied: webencodings in /Users/polinaturiseva/anaconda3/lib/python3.7/site-packages (from html5lib!=1.0b1,!=1.0b2,!=1.0b3,!=1.0b4,!=1.0b5,!=1.0b6,!=1.0b7,!=1.0b8,>=0.99999999pre->bleach->nbconvert->notebook>=4.4.1->widgetsnbextension~=3.5.0->ipywidgets>=7.5.1->pandas_profiling) (0.5.1)\n",
      "\u001b[33mWARNING: You are using pip version 20.2.2; however, version 20.3.3 is available.\n",
      "You should consider upgrading via the '/Users/polinaturiseva/anaconda3/bin/python -m pip install --upgrade pip' command.\u001b[0m\n"
     ]
    }
   ],
   "source": [
    "!pip install pandas_profiling"
   ]
  },
  {
   "cell_type": "markdown",
   "metadata": {},
   "source": [
    "## Here is a part of data processing and model training\n",
    "### If you are not interested, you may go to demo1 with comment sentiment prediction and demo 2 - with price prediction. All preprocessed data and trained models are saved and will be uploaded\n"
   ]
  },
  {
   "cell_type": "code",
   "execution_count": 1,
   "metadata": {},
   "outputs": [
    {
     "name": "stdout",
     "output_type": "stream",
     "text": [
      "Populating the interactive namespace from numpy and matplotlib\n"
     ]
    },
    {
     "name": "stderr",
     "output_type": "stream",
     "text": [
      "/Users/polinaturiseva/anaconda3/lib/python3.7/site-packages/nltk/twitter/__init__.py:20: UserWarning: The twython library has not been installed. Some functionality from the twitter package will not be available.\n",
      "  warnings.warn(\"The twython library has not been installed. \"\n"
     ]
    }
   ],
   "source": [
    "import pandas as pd\n",
    "import sklearn\n",
    "import numpy\n",
    "from collections import Counter, defaultdict\n",
    "%pylab inline\n",
    "import matplotlib.pyplot as plt\n",
    "import matplotlib.image as mpimg\n",
    "from nltk.sentiment.vader import SentimentIntensityAnalyzer  \n",
    "import warnings\n",
    "import lightgbm as lgb\n",
    "from sklearn.model_selection import train_test_split\n",
    "\n",
    "from tqdm import tqdm\n",
    "warnings.filterwarnings(\"ignore\")"
   ]
  },
  {
   "cell_type": "code",
   "execution_count": 2,
   "metadata": {},
   "outputs": [],
   "source": [
    "path = 'data/'"
   ]
  },
  {
   "cell_type": "code",
   "execution_count": 7,
   "metadata": {},
   "outputs": [
    {
     "name": "stderr",
     "output_type": "stream",
     "text": [
      "/Users/polinaturiseva/anaconda3/lib/python3.7/site-packages/numpy/lib/arraysetops.py:568: FutureWarning: elementwise comparison failed; returning scalar instead, but in the future will perform elementwise comparison\n",
      "  mask |= (ar1 == a)\n"
     ]
    }
   ],
   "source": [
    "calendar_df = pd.read_csv(f'{path}calendar.csv', index_col='listing_id')\n",
    "reviews_df  = pd.read_csv(f'{path}reviews.csv', index_col='listing_id')\n",
    "train_df    = pd.read_csv(f'{path}train.csv', index_col='id')\n",
    "test_df     = pd.read_csv(f'{path}test.csv', index_col='id')"
   ]
  },
  {
   "cell_type": "code",
   "execution_count": 8,
   "metadata": {},
   "outputs": [
    {
     "data": {
      "application/vnd.jupyter.widget-view+json": {
       "model_id": "562a508024f844c4be959029c6ce0fef",
       "version_major": 2,
       "version_minor": 0
      },
      "text/plain": [
       "Summarize dataset:   0%|          | 0/57 [00:00<?, ?it/s]"
      ]
     },
     "metadata": {},
     "output_type": "display_data"
    },
    {
     "data": {
      "application/vnd.jupyter.widget-view+json": {
       "model_id": "b59b3ae6f29d447a9a4f5d9ad4c32a53",
       "version_major": 2,
       "version_minor": 0
      },
      "text/plain": [
       "Generate report structure:   0%|          | 0/1 [00:00<?, ?it/s]"
      ]
     },
     "metadata": {},
     "output_type": "display_data"
    },
    {
     "data": {
      "application/vnd.jupyter.widget-view+json": {
       "model_id": "6bf4dd1eeb3443efbe70c8676782f35d",
       "version_major": 2,
       "version_minor": 0
      },
      "text/plain": [
       "Render HTML:   0%|          | 0/1 [00:00<?, ?it/s]"
      ]
     },
     "metadata": {},
     "output_type": "display_data"
    },
    {
     "data": {
      "application/vnd.jupyter.widget-view+json": {
       "model_id": "3d359051b6da4395bdc00a817ae196a6",
       "version_major": 2,
       "version_minor": 0
      },
      "text/plain": [
       "Export report to file:   0%|          | 0/1 [00:00<?, ?it/s]"
      ]
     },
     "metadata": {},
     "output_type": "display_data"
    },
    {
     "data": {
      "application/vnd.jupyter.widget-view+json": {
       "model_id": "824ac916c0c84df7b44c376a46fea164",
       "version_major": 2,
       "version_minor": 0
      },
      "text/plain": [
       "Summarize dataset:   0%|          | 0/56 [00:00<?, ?it/s]"
      ]
     },
     "metadata": {},
     "output_type": "display_data"
    },
    {
     "data": {
      "application/vnd.jupyter.widget-view+json": {
       "model_id": "82cc31a98f43490295821caa925e90d2",
       "version_major": 2,
       "version_minor": 0
      },
      "text/plain": [
       "Generate report structure:   0%|          | 0/1 [00:00<?, ?it/s]"
      ]
     },
     "metadata": {},
     "output_type": "display_data"
    },
    {
     "data": {
      "application/vnd.jupyter.widget-view+json": {
       "model_id": "a20db4ceda6445bb90a347201398f298",
       "version_major": 2,
       "version_minor": 0
      },
      "text/plain": [
       "Render HTML:   0%|          | 0/1 [00:00<?, ?it/s]"
      ]
     },
     "metadata": {},
     "output_type": "display_data"
    },
    {
     "data": {
      "application/vnd.jupyter.widget-view+json": {
       "model_id": "1ad450c9589e4db9818573b4e076eb95",
       "version_major": 2,
       "version_minor": 0
      },
      "text/plain": [
       "Export report to file:   0%|          | 0/1 [00:00<?, ?it/s]"
      ]
     },
     "metadata": {},
     "output_type": "display_data"
    },
    {
     "data": {
      "application/vnd.jupyter.widget-view+json": {
       "model_id": "1b265dffa33c444db6ecdcb103d46726",
       "version_major": 2,
       "version_minor": 0
      },
      "text/plain": [
       "Summarize dataset:   0%|          | 0/20 [00:00<?, ?it/s]"
      ]
     },
     "metadata": {},
     "output_type": "display_data"
    },
    {
     "data": {
      "application/vnd.jupyter.widget-view+json": {
       "model_id": "d4ae257453b546fdb2077cc1d7c5fda2",
       "version_major": 2,
       "version_minor": 0
      },
      "text/plain": [
       "Generate report structure:   0%|          | 0/1 [00:00<?, ?it/s]"
      ]
     },
     "metadata": {},
     "output_type": "display_data"
    },
    {
     "data": {
      "application/vnd.jupyter.widget-view+json": {
       "model_id": "b1aee702838c4a16bd8ce9185dc2a1bb",
       "version_major": 2,
       "version_minor": 0
      },
      "text/plain": [
       "Render HTML:   0%|          | 0/1 [00:00<?, ?it/s]"
      ]
     },
     "metadata": {},
     "output_type": "display_data"
    },
    {
     "data": {
      "application/vnd.jupyter.widget-view+json": {
       "model_id": "47c89ff3575c42ee9a26a847bc799dc9",
       "version_major": 2,
       "version_minor": 0
      },
      "text/plain": [
       "Export report to file:   0%|          | 0/1 [00:00<?, ?it/s]"
      ]
     },
     "metadata": {},
     "output_type": "display_data"
    },
    {
     "data": {
      "application/vnd.jupyter.widget-view+json": {
       "model_id": "ff4001b6568144268acae66d31df3ae9",
       "version_major": 2,
       "version_minor": 0
      },
      "text/plain": [
       "Summarize dataset:   0%|          | 0/17 [00:00<?, ?it/s]"
      ]
     },
     "metadata": {},
     "output_type": "display_data"
    },
    {
     "data": {
      "application/vnd.jupyter.widget-view+json": {
       "model_id": "beaa16947f7e401aac88eb17c55140f4",
       "version_major": 2,
       "version_minor": 0
      },
      "text/plain": [
       "Generate report structure:   0%|          | 0/1 [00:00<?, ?it/s]"
      ]
     },
     "metadata": {},
     "output_type": "display_data"
    },
    {
     "data": {
      "application/vnd.jupyter.widget-view+json": {
       "model_id": "aa074170909a4b679376165aa2f7d6b9",
       "version_major": 2,
       "version_minor": 0
      },
      "text/plain": [
       "Render HTML:   0%|          | 0/1 [00:00<?, ?it/s]"
      ]
     },
     "metadata": {},
     "output_type": "display_data"
    },
    {
     "data": {
      "application/vnd.jupyter.widget-view+json": {
       "model_id": "e791fe2f9b3849ce91bb6b7e7cf72683",
       "version_major": 2,
       "version_minor": 0
      },
      "text/plain": [
       "Export report to file:   0%|          | 0/1 [00:00<?, ?it/s]"
      ]
     },
     "metadata": {},
     "output_type": "display_data"
    }
   ],
   "source": [
    "from pandas_profiling import ProfileReport\n",
    "\n",
    "train_profile = ProfileReport(train_df, title=\"Train data report\")\n",
    "test_profile = ProfileReport(test_df, title=\"Test data report\")\n",
    "review_profile = ProfileReport(reviews_df, title=\"Reviews report\")\n",
    "calendar_profile = ProfileReport(calendar_df, title=\"Calendar report\")\n",
    "\n",
    "train_profile.to_file('profiles/train_profile.html')\n",
    "test_profile.to_file('profiles/test_profile.html')\n",
    "review_profile.to_file('profiles/review_profile.html')\n",
    "calendar_profile.to_file('profiles/calendar_profile.html')"
   ]
  },
  {
   "cell_type": "code",
   "execution_count": 9,
   "metadata": {},
   "outputs": [],
   "source": [
    "# free RAM\n",
    "calendar_df = None\n",
    "reviews_df  = None\n",
    "train_df    = None\n",
    "test_df     = None"
   ]
  },
  {
   "cell_type": "markdown",
   "metadata": {},
   "source": [
    "## Data cleaning"
   ]
  },
  {
   "cell_type": "code",
   "execution_count": 38,
   "metadata": {},
   "outputs": [],
   "source": [
    "def change_ammenities(amm):\n",
    "    return sorted(amm.replace('{', '').replace('}', ',').replace('\"', '').lower().split(','))[1:]"
   ]
  },
  {
   "cell_type": "code",
   "execution_count": 39,
   "metadata": {},
   "outputs": [],
   "source": [
    "calendar = pd.read_csv(f'{path}calendar.csv')\n",
    "reviews = pd.read_csv(f'{path}reviews.csv')\n",
    "train = pd.read_csv(f'{path}train.csv')"
   ]
  },
  {
   "cell_type": "code",
   "execution_count": 40,
   "metadata": {},
   "outputs": [],
   "source": [
    "train['cancellation_policy'] = train.cancellation_policy.astype('category')\n",
    "train['require_guest_profile_picture'] = train.require_guest_profile_picture.astype('category')\n",
    "train['require_guest_phone_verification']= train.require_guest_phone_verification.astype('category')\n",
    "train['is_location_exact'] = train.is_location_exact.astype('category')\n",
    "train['property_type'] = train.property_type.astype('category')\n",
    "train['room_type'] = train.room_type.astype('category')\n",
    "train['bed_type'] = train.bed_type.astype('category')\n",
    "train['experiences_offered'] = train.experiences_offered.astype('category')\n",
    "train['id'] = train.id.astype('category')\n",
    "train['host_id'] = train.host_id.astype('category')\n",
    "train['host_response_time'] = train.host_response_time.astype('category')\n",
    "train['host_is_superhost'] = train.host_is_superhost.astype('category')\n",
    "train['host_has_profile_pic'] = train.host_has_profile_pic.astype('category')\n",
    "train['host_identity_verified'] = train.host_identity_verified.astype('category')\n",
    "train['neighbourhood_cleansed'] = train.neighbourhood_cleansed.astype('category')\n",
    "\n",
    "train['amenities'] = train['amenities'].apply(lambda x: change_ammenities(x))"
   ]
  },
  {
   "cell_type": "code",
   "execution_count": 41,
   "metadata": {},
   "outputs": [],
   "source": [
    "reviews['listing_id'] = reviews.listing_id.astype('category')\n",
    "reviews['id'] = reviews.id.astype('category')\n",
    "reviews['reviewer_id'] = reviews.reviewer_id.astype('category')\n",
    "reviews['comments'] = reviews['comments'].apply(lambda x: str(x).replace('\\r', '').replace('\\n', '')) \n",
    "reviews.drop(columns=['reviewer_name'], inplace=True)\n",
    "calendar['listing_id'] = calendar.listing_id.astype('category')\n",
    "calendar['available'] = calendar.available.astype('category')"
   ]
  },
  {
   "cell_type": "code",
   "execution_count": 42,
   "metadata": {},
   "outputs": [],
   "source": [
    "train.drop(columns=['bed_type', 'experiences_offered', 'host_response_rate', 'square_feet', \n",
    "                    'require_guest_phone_verification', 'require_guest_profile_picture', \n",
    "                    'host_has_profile_pic', 'name', 'zipcode'], inplace=True)"
   ]
  },
  {
   "cell_type": "markdown",
   "metadata": {},
   "source": [
    "## Todo positive/negative classification of reviews\n",
    "* http://www.nltk.org/howto/sentiment.html\n",
    "\n"
   ]
  },
  {
   "cell_type": "code",
   "execution_count": 105,
   "metadata": {},
   "outputs": [
    {
     "name": "stderr",
     "output_type": "stream",
     "text": [
      "100%|██████████| 1137324/1137324 [24:17<00:00, 780.40it/s]\n"
     ]
    }
   ],
   "source": [
    "# http://www.nltk.org/howto/sentiment.html\n",
    "sid = SentimentIntensityAnalyzer()\n",
    "reviews['pos'] = 0.0\n",
    "reviews['neg'] = 0.0\n",
    "reviews['neu'] = 0.0\n",
    "reviews['compound'] = 0.0\n",
    "reviews['sentiment'] = 'neu'\n",
    "for s in tqdm(range(len(reviews['comments']))):\n",
    "    sentence = reviews['comments'][s]\n",
    "    ss = sid.polarity_scores(sentence)\n",
    "    reviews['neg'][s] = ss['neg']\n",
    "    reviews['pos'][s] = ss['pos']\n",
    "    reviews['neu'][s] = ss['neu']\n",
    "    reviews['compound'][s] = ss['compound']\n",
    "    if ss['neg'] > max(ss['pos'], ss['neu']):\n",
    "        reviews['sentiment'][s] = 'neg'\n",
    "    elif ss['pos'] > ss['neu']:\n",
    "        reviews['sentiment'][s] = 'pos'"
   ]
  },
  {
   "cell_type": "code",
   "execution_count": null,
   "metadata": {},
   "outputs": [],
   "source": [
    "# reviews.to_csv(f'{path}reviews_with_sentiment.csv')"
   ]
  },
  {
   "cell_type": "code",
   "execution_count": null,
   "metadata": {},
   "outputs": [],
   "source": [
    "# reviews = pd.read_csv(f'{path}reviews_with_sentiment.csv')"
   ]
  },
  {
   "cell_type": "markdown",
   "metadata": {},
   "source": [
    "## Interactive Model Demo for sentiment analysis"
   ]
  },
  {
   "cell_type": "markdown",
   "metadata": {},
   "source": [
    "### PLEASE ENTER YOU PHRASE TO TEST FURTHER"
   ]
  },
  {
   "cell_type": "code",
   "execution_count": 3,
   "metadata": {},
   "outputs": [],
   "source": [
    "PHRASE = 'i love cats' # ENTER YOUR SENTENCE INSTAED OF CATS"
   ]
  },
  {
   "cell_type": "code",
   "execution_count": 6,
   "metadata": {},
   "outputs": [
    {
     "data": {
      "image/png": "[encoded data removed]",
      "text/plain": [
       "<Figure size 432x288 with 1 Axes>"
      ]
     },
     "metadata": {
      "needs_background": "light"
     },
     "output_type": "display_data"
    }
   ],
   "source": [
    "sid = SentimentIntensityAnalyzer()\n",
    "d = sid.polarity_scores(PHRASE)\n",
    "neg, pos, neutral = d['neg'], d['pos'], d['neu']\n",
    "img_path = ''\n",
    "\n",
    "if neg > max(pos, neutral):\n",
    "    img_path = 'pictures/negative.png'\n",
    "elif pos > neutral:\n",
    "    img_path = 'pictures/positive.png'\n",
    "else:\n",
    "    img_path = 'pictures/neutral.png'\n",
    "    \n",
    "img = mpimg.imread(img_path)\n",
    "imgplot = plt.imshow(img)\n",
    "plt.show()"
   ]
  },
  {
   "cell_type": "markdown",
   "metadata": {},
   "source": [
    "## Augment Columns"
   ]
  },
  {
   "cell_type": "code",
   "execution_count": null,
   "metadata": {},
   "outputs": [],
   "source": [
    "train_ids = set(list(train['id']))\n",
    "calendar_ids = set(list(calendar['listing_id']))\n",
    "reviews_ids = set(list(reviews['listing_id']))\n",
    "\n",
    "train_calendar = train_ids.intersection(calendar_ids)\n",
    "train_reviews = train_ids.intersection(reviews_ids)"
   ]
  },
  {
   "cell_type": "code",
   "execution_count": null,
   "metadata": {},
   "outputs": [],
   "source": [
    "perc = defaultdict(int)\n",
    "fin_prec = defaultdict(int)\n",
    "\n",
    "for i in range(len(calendar)):\n",
    "    if calendar['available'][i] == 't':\n",
    "        perc[f'{calendar[\"listing_id\"][i]}_free'] +=1\n",
    "    else:\n",
    "        perc[f'{calendar[\"listing_id\"][i]}_nonfree'] +=1\n",
    "\n",
    "for i in list(set(list(calendar['listing_id']))):\n",
    "    fin_prec[i] = perc[f'{i}_free'] / (perc[f'{i}_free'] + perc[f'{i}_nonfree'])\n",
    "                                                                \n",
    "calendar['perc_free'] = calendar['listing_id'].apply(lambda x: fin_prec[x])"
   ]
  },
  {
   "cell_type": "code",
   "execution_count": null,
   "metadata": {},
   "outputs": [],
   "source": [
    "fin_sentiment = {}\n",
    "for i in list(train_reviews):\n",
    "    sum_over_rows = reviews[reviews['listing_id']==i].sum(axis=0)\n",
    "    neutral = sum_over_rows['neu'] * 0.6\n",
    "    if sum_over_rows['neg'] > max(sum_over_rows['pos'], neutral):\n",
    "        fin_sentiment[i] = 'neg'\n",
    "    elif sum_over_rows['pos'] > neutral:\n",
    "        fin_sentiment[i] = 'pos'\n",
    "    else:\n",
    "        fin_sentiment[i] = 'neu'"
   ]
  },
  {
   "cell_type": "code",
   "execution_count": null,
   "metadata": {},
   "outputs": [],
   "source": [
    "train['perc_free'] = None\n",
    "train['perc_free'] = train['id'].apply(lambda x : fin_prec[x] if x in train_calendar else None)\n",
    "train['review_sentiment'] = None\n",
    "train['review_sentiment'] = train['id'].apply(lambda x : fin_sentiment[x] if x in train_reviews else None)\n",
    "train['review_sentiment'] = train.review_sentiment.astype('category')\n",
    "host_houses = Counter(list(train['host_id']))\n",
    "train['host_houses'] = train['host_id'].apply(lambda x: host_houses[x])"
   ]
  },
  {
   "cell_type": "code",
   "execution_count": null,
   "metadata": {},
   "outputs": [],
   "source": [
    "from sklearn.preprocessing import MultiLabelBinarizer\n",
    "\n",
    "mlb = MultiLabelBinarizer(sparse_output=True)\n",
    "\n",
    "train = train.join(\n",
    "            pd.DataFrame.sparse.from_spmatrix(\n",
    "                mlb.fit_transform(train.pop('amenities')),\n",
    "                index=train.index,\n",
    "                columns=mlb.classes_))"
   ]
  },
  {
   "cell_type": "markdown",
   "metadata": {},
   "source": [
    "## Select only some columns based on properties frequencies and profile analytics"
   ]
  },
  {
   "cell_type": "code",
   "execution_count": null,
   "metadata": {},
   "outputs": [],
   "source": [
    "columns_to_save = set(['id', 'latitude', 'longitude', 'bathrooms', 'bedrooms', 'host_id',\n",
    "       'host_is_superhost', 'host_since', 'neighbourhood_cleansed',\n",
    "       'room_type', 'security_deposit', 'is_location_exact', 'beds',\n",
    "       'cleaning_fee', 'guests_included', 'extra_people', 'minimum_nights',\n",
    "       'cancellation_policy', 'property_type', 'host_houses', 'perc_free',\n",
    "       'review_sentiment', 'accommodates', 'price', 'buzzer/wireless intercom',\n",
    "       'shampoo', 'smoking allowed', 'elevator', 'single level home',\n",
    "       'refrigerator', 'indoor fireplace', 'hot tub', 'garden or backyard',\n",
    "       'family/kid friendly', 'private entrance', 'wide hallway clearance',\n",
    "       'bathtub', 'patio or balcony', 'breakfast', 'hair dryer', 'other',\n",
    "       'dishwasher', 'private living room', 'carbon monoxide detector',\n",
    "       'stove', 'first aid kit', 'host greets you', 'long term stays allowed',\n",
    "       'washer', 'ethernet connection', 'paid parking off premises', 'dryer',\n",
    "       'well-lit path to entrance', 'internet', 'fire extinguisher',\n",
    "       'flat path to front door', 'dishes and silverware', 'air conditioning',\n",
    "       'smoke detector', 'free street parking', 'iron',\n",
    "       'children’s books and toys', 'step-free access', 'pets allowed',\n",
    "       'cable tv', 'free parking on premises', 'high chair',\n",
    "       '24-hour check-in', 'wide doorway', 'pack ’n play/travel crib',\n",
    "       'paid parking on premises', 'tv', 'safety card', 'cooking basics',\n",
    "       'hot water', 'self check-in', 'bed linens', 'crib',\n",
    "       'laptop friendly workspace', 'coffee maker', 'lock on bedroom door',\n",
    "       'lockbox', 'extra pillows and blankets', 'gym',\n",
    "       'luggage dropoff allowed', 'hangers', 'microwave'])"
   ]
  },
  {
   "cell_type": "code",
   "execution_count": null,
   "metadata": {},
   "outputs": [],
   "source": [
    "cleared_features = train[columns_to_save]"
   ]
  },
  {
   "cell_type": "markdown",
   "metadata": {},
   "source": [
    "### Reducing the amount of classes in categorical columns"
   ]
  },
  {
   "cell_type": "code",
   "execution_count": null,
   "metadata": {},
   "outputs": [],
   "source": [
    "property_type = dict(Counter(cleared_features['property_type']))"
   ]
  },
  {
   "cell_type": "code",
   "execution_count": 3,
   "metadata": {},
   "outputs": [],
   "source": [
    "def correct_property_type(x):\n",
    "    if property_type[x] < 400:\n",
    "        return 'else'\n",
    "    else:\n",
    "        return x.lower()\n",
    "\n",
    "\n",
    "def update_host_since(x):\n",
    "    if not pd.isna(x):\n",
    "        try:\n",
    "            year = str(x).split('-')[0]\n",
    "            month = str(x).split('-')[1]\n",
    "            return (2019 - int(year)) * 12 - int(month)\n",
    "        except:\n",
    "            return float('nan')\n",
    "    else:\n",
    "        return x\n",
    "    \n",
    "    \n",
    "def update_guests_included(x):\n",
    "    if x >= 7:\n",
    "        return int(7)\n",
    "    else:\n",
    "        return int(x)  \n",
    "    \n",
    "    \n",
    "def update_beds(x):\n",
    "    if not pd.isna(x):\n",
    "        try:\n",
    "            if int(x) >= 7:\n",
    "                return int(7)\n",
    "            else:\n",
    "                return int(x)\n",
    "        except:\n",
    "            return float('nan')\n",
    "    else:\n",
    "        return x\n",
    "    \n",
    "    \n",
    "def update_min_nights(x):\n",
    "    if not pd.isna(x):\n",
    "        try:\n",
    "            if int(x) <= 5:\n",
    "                return float(x)\n",
    "            elif x<=7:\n",
    "                return float(6.5)\n",
    "            else:\n",
    "                return float(8.0)\n",
    "        except:\n",
    "            return float('nan')\n",
    "    else:\n",
    "        return x \n",
    "    \n",
    "    \n",
    "def update_bathrooms(x):\n",
    "    if not pd.isna(x):\n",
    "        try:\n",
    "            if float(x) <= 1:\n",
    "                return int(0)\n",
    "            elif float(x) <= 2:\n",
    "                return int(1)\n",
    "            elif float(x) <= 3:\n",
    "                return int(2)\n",
    "            elif float(x) <= 4:\n",
    "                return int(3)\n",
    "            else:\n",
    "                return int(4)\n",
    "        except:\n",
    "            return float('nan')\n",
    "    else:\n",
    "        return x\n",
    "    \n",
    "    \n",
    "def update_bedrooms(x):\n",
    "    if not pd.isna(x):\n",
    "        try:\n",
    "            if int(x) >= 5:\n",
    "                return int(7)\n",
    "            else:\n",
    "                return int(x)\n",
    "        except:\n",
    "            return float('nan')\n",
    "    else:\n",
    "        return x\n",
    "    \n",
    "    \n",
    "def to_int(x):\n",
    "    if x == 'f':\n",
    "        return 0\n",
    "    else:\n",
    "        return 1"
   ]
  },
  {
   "cell_type": "code",
   "execution_count": null,
   "metadata": {},
   "outputs": [],
   "source": [
    "cleared_features['host_since'] = cleared_features['host_since'].apply(lambda x: update_host_since(str(x)))\n",
    "cleared_features['minimum_nights'] = cleared_features['minimum_nights'].apply(lambda x: update_min_nights(x))\n",
    "cleared_features['bathrooms'] = cleared_features['bathrooms'].apply(lambda x: update_bathrooms(x))\n",
    "cleared_features['beds'] = cleared_features['beds'].apply(lambda x: update_beds(x))\n",
    "cleared_features['bedrooms'] = cleared_features['bedrooms'].apply(lambda x: update_bedrooms(x))\n",
    "cleared_features['guests_included'] = cleared_features['guests_included'].apply(lambda x: update_guests_included(int(x)))\n",
    "cleared_features['is_location_exact'] = cleared_features['is_location_exact'].apply(lambda x: to_int(str(x)))\n",
    "cleared_features['property_type'] = cleared_features['property_type'].apply(lambda x: correct_property_type(str(x)))"
   ]
  },
  {
   "cell_type": "code",
   "execution_count": null,
   "metadata": {},
   "outputs": [],
   "source": [
    "# one-hot encoding for categorical values\n",
    "cleared_features = pd.get_dummies(cleared_features, prefix=['room_type'], columns=['room_type'])\n",
    "cleared_features = pd.get_dummies(cleared_features, prefix=['neighbourhood_cleansed'], \n",
    "                                  columns=['neighbourhood_cleansed'])\n",
    "cleared_features = pd.get_dummies(cleared_features, prefix=['review_sentiment'], \n",
    "                                  columns=['review_sentiment'])\n",
    "cleared_features = pd.get_dummies(cleared_features, prefix=['cancellation_policy'], \n",
    "                                  columns=['cancellation_policy'])\n",
    "cleared_features = pd.get_dummies(cleared_features, prefix=['property_type'], \n",
    "                                  columns=['property_type'])\n",
    "cleared_features['cancellation_policy_strict'] = cleared_features['cancellation_policy_strict'] + \\\n",
    "    cleared_features['cancellation_policy_strict_14_with_grace_period'] + \\\n",
    "    cleared_features['cancellation_policy_super_strict_30'] + \\\n",
    "    cleared_features['cancellation_policy_super_strict_60']\n",
    "cleared_features.drop(columns=['cancellation_policy_strict_14_with_grace_period', \n",
    "                               'cancellation_policy_super_strict_30', \n",
    "                               'cancellation_policy_super_strict_60'], inplace=True)"
   ]
  },
  {
   "cell_type": "code",
   "execution_count": null,
   "metadata": {},
   "outputs": [],
   "source": [
    "# indicating nans\n",
    "cleared_features['bathrooms_nan'] = cleared_features.isna()['bathrooms']\n",
    "cleared_features['cleaning_fee_nan'] = cleared_features.isna()['cleaning_fee']\n",
    "cleared_features['bedrooms_nan'] = cleared_features.isna()['bedrooms']\n",
    "cleared_features['host_since_nan'] = cleared_features.isna()['host_since']\n",
    "cleared_features['security_deposit_nan'] = cleared_features.isna()['security_deposit']\n",
    "cleared_features['beds_nan'] = cleared_features.isna()['beds']\n",
    "cleared_features['host_is_superhost_nan'] = cleared_features.isna()['host_is_superhost']"
   ]
  },
  {
   "cell_type": "code",
   "execution_count": null,
   "metadata": {},
   "outputs": [],
   "source": [
    "#filling nans\n",
    "cleared_features.fillna(cleared_features.median(), inplace=True)"
   ]
  },
  {
   "cell_type": "code",
   "execution_count": null,
   "metadata": {},
   "outputs": [],
   "source": [
    "cleared_features.to_csv(f'{path}cleared_test.csv')"
   ]
  },
  {
   "cell_type": "code",
   "execution_count": 127,
   "metadata": {},
   "outputs": [],
   "source": [
    "# cleared_features.to_csv(f'{path}cleared_train.csv')"
   ]
  },
  {
   "cell_type": "markdown",
   "metadata": {},
   "source": [
    "## Create and train a model"
   ]
  },
  {
   "cell_type": "code",
   "execution_count": 85,
   "metadata": {},
   "outputs": [],
   "source": [
    "cleared_features = pd.read_csv(f'{path}cleared_train.csv')\n",
    "cleared_features.drop(columns=['Unnamed: 0'], inplace=True)"
   ]
  },
  {
   "cell_type": "code",
   "execution_count": 86,
   "metadata": {},
   "outputs": [],
   "source": [
    "cleared_features['host_is_superhost'] = cleared_features['host_is_superhost'].apply(lambda x: to_int(str(x)))"
   ]
  },
  {
   "cell_type": "code",
   "execution_count": 87,
   "metadata": {},
   "outputs": [],
   "source": [
    "y = cleared_features['price']\n",
    "xs = cleared_features.copy()\n",
    "xs.drop(columns=['price', 'id'], inplace = True)\n",
    "X_train, X_test, y_train, y_test = train_test_split(xs, y, test_size=0.2, random_state=42)\n",
    "\n",
    "lgb_train = lgb.Dataset(X_train, y_train)\n",
    "lgb_valid = lgb.Dataset(X_test, y_test)"
   ]
  },
  {
   "cell_type": "code",
   "execution_count": 88,
   "metadata": {},
   "outputs": [],
   "source": [
    "params = {\n",
    "    'nthread': 10,\n",
    "    'task': 'train',\n",
    "    'objective': 'regression_l1',\n",
    "    'metric': 'mape', # this is abs(a-e)/max(1,a)\n",
    "    'learning_rate': 0.05,\n",
    "    'tree_learner': 'voting',\n",
    "    'boosting_type': 'dart',\n",
    "    'verbose': -1\n",
    "}"
   ]
  },
  {
   "cell_type": "code",
   "execution_count": 89,
   "metadata": {},
   "outputs": [
    {
     "name": "stdout",
     "output_type": "stream",
     "text": [
      "[100]\ttraining's mape: 0.334208\tvalid_1's mape: 0.302503\n",
      "[200]\ttraining's mape: 0.311367\tvalid_1's mape: 0.280369\n",
      "[300]\ttraining's mape: 0.303996\tvalid_1's mape: 0.274941\n",
      "[400]\ttraining's mape: 0.302307\tvalid_1's mape: 0.274854\n",
      "[500]\ttraining's mape: 0.296075\tvalid_1's mape: 0.271992\n",
      "[600]\ttraining's mape: 0.291643\tvalid_1's mape: 0.269177\n",
      "[700]\ttraining's mape: 0.290578\tvalid_1's mape: 0.269465\n",
      "[800]\ttraining's mape: 0.288536\tvalid_1's mape: 0.268059\n",
      "[900]\ttraining's mape: 0.287133\tvalid_1's mape: 0.268058\n",
      "[1000]\ttraining's mape: 0.286189\tvalid_1's mape: 0.268022\n"
     ]
    }
   ],
   "source": [
    "gbm = lgb.train(params, lgb_train, 1000, \n",
    "        valid_sets=[lgb_train, lgb_valid],\n",
    "        early_stopping_rounds=100, verbose_eval=100)"
   ]
  },
  {
   "cell_type": "code",
   "execution_count": 90,
   "metadata": {},
   "outputs": [
    {
     "data": {
      "text/plain": [
       "<lightgbm.basic.Booster at 0x7f83f732d828>"
      ]
     },
     "execution_count": 90,
     "metadata": {},
     "output_type": "execute_result"
    }
   ],
   "source": [
    "gbm.save_model('mode.txt', num_iteration=gbm.best_iteration)"
   ]
  },
  {
   "cell_type": "code",
   "execution_count": null,
   "metadata": {},
   "outputs": [],
   "source": [
    "# the following line to upload the pretrained model\n",
    "# bst = lgb.Booster(model_file='mode.txt')"
   ]
  },
  {
   "cell_type": "markdown",
   "metadata": {},
   "source": [
    "## Data visualization"
   ]
  },
  {
   "cell_type": "code",
   "execution_count": 26,
   "metadata": {},
   "outputs": [],
   "source": [
    "import folium\n",
    "from folium.plugins import FastMarkerCluster, MarkerCluster\n",
    "from folium.plugins import BeautifyIcon"
   ]
  },
  {
   "cell_type": "markdown",
   "metadata": {},
   "source": [
    "### Interactive map with our training apparetements placements on map"
   ]
  },
  {
   "cell_type": "code",
   "execution_count": 27,
   "metadata": {},
   "outputs": [],
   "source": [
    "xs = pd.read_csv(f'{path}cleared_train.csv')"
   ]
  },
  {
   "cell_type": "code",
   "execution_count": 36,
   "metadata": {
    "scrolled": true
   },
   "outputs": [
    {
     "data": {
      "text/plain": [
       "<folium.plugins.fast_marker_cluster.FastMarkerCluster at 0x7fb20b6ab0b8>"
      ]
     },
     "execution_count": 36,
     "metadata": {},
     "output_type": "execute_result"
    }
   ],
   "source": [
    "lats = xs['latitude'].tolist()\n",
    "lons = xs['longitude'].tolist()\n",
    "locations = list(zip(lats, lons))\n",
    "\n",
    "\n",
    "map1 = folium.Map(location=[51.5074, 0.1277], zoom_start=9.5)\n",
    "FastMarkerCluster(data=locations).add_to(map1)\n"
   ]
  },
  {
   "cell_type": "code",
   "execution_count": null,
   "metadata": {},
   "outputs": [],
   "source": [
    "map1"
   ]
  },
  {
   "cell_type": "markdown",
   "metadata": {},
   "source": [
    "## Placements of our test set elements (Test elements are stars)\n",
    "### We draw randomly just several test rows due to RAM limits"
   ]
  },
  {
   "cell_type": "code",
   "execution_count": 32,
   "metadata": {},
   "outputs": [],
   "source": [
    "test = pd.read_csv(f'{path}cleared_test.csv')"
   ]
  },
  {
   "cell_type": "code",
   "execution_count": 35,
   "metadata": {
    "scrolled": true
   },
   "outputs": [],
   "source": [
    "# star marker\n",
    "def create_star():\n",
    "    icon_star = BeautifyIcon(\n",
    "    icon='star',\n",
    "    inner_icon_style='color:blue;font-size:10px;',\n",
    "    background_color='transparent',\n",
    "    border_color='transparent')\n",
    "    return icon_star\n",
    "\n",
    "lats_test = test['latitude'].tolist()\n",
    "lons_test = test['longitude'].tolist()\n",
    "locations_test = list(zip(lats_test, lons_test))\n",
    "i = 0\n",
    "\n",
    "\n",
    "for x, y in locations_test:\n",
    "    i += 1\n",
    "    folium.Marker([x, y], tooltip='star', icon=create_star()).add_to(map1)\n",
    "    if i == 500:\n",
    "        break"
   ]
  },
  {
   "cell_type": "code",
   "execution_count": null,
   "metadata": {},
   "outputs": [],
   "source": [
    "map1"
   ]
  },
  {
   "cell_type": "markdown",
   "metadata": {},
   "source": [
    "## Predict prices "
   ]
  },
  {
   "cell_type": "code",
   "execution_count": 11,
   "metadata": {},
   "outputs": [],
   "source": [
    "prices_train = xs['price'].tolist()"
   ]
  },
  {
   "cell_type": "code",
   "execution_count": 12,
   "metadata": {},
   "outputs": [],
   "source": [
    "test = pd.read_csv(f'{path}cleared_test.csv')\n",
    "test['property_type_condominium'] = 0\n",
    "test['property_type_loft'] = 0\n",
    "test['property_type_serviced apartment'] = 0\n",
    "test.drop(columns=['Unnamed: 0', 'id'], inplace = True)\n",
    "test['host_is_superhost'] = test['host_is_superhost'].apply(lambda x: to_int(str(x)))"
   ]
  },
  {
   "cell_type": "code",
   "execution_count": 13,
   "metadata": {},
   "outputs": [],
   "source": [
    "bst = lgb.Booster(model_file='mode.txt')\n",
    "prices_pred = list(bst.predict(test))\n",
    "prices_total = prices_train + prices_pred"
   ]
  },
  {
   "cell_type": "code",
   "execution_count": 14,
   "metadata": {},
   "outputs": [],
   "source": [
    "test['price'] = prices_pred \n",
    "xs.drop(columns=['Unnamed: 0', 'id'], inplace=True)"
   ]
  },
  {
   "cell_type": "code",
   "execution_count": 15,
   "metadata": {},
   "outputs": [],
   "source": [
    "test['source_type'] = 'predicted'\n",
    "xs['source_type']  = 'train'"
   ]
  },
  {
   "cell_type": "code",
   "execution_count": 16,
   "metadata": {},
   "outputs": [],
   "source": [
    "max_pr = round(max(prices_total))\n",
    "min_pr = round(min(prices_total))"
   ]
  },
  {
   "cell_type": "code",
   "execution_count": 17,
   "metadata": {},
   "outputs": [],
   "source": [
    "together = pd.concat([test, xs])"
   ]
  },
  {
   "cell_type": "markdown",
   "metadata": {},
   "source": [
    "## Interactive part - define your own row for test (already preprocessed for simplicity) and draw a new dot\n",
    "\n",
    "### It will show 50 closest points to it and its prices (for dots from train set there will be preedicted prices)"
   ]
  },
  {
   "cell_type": "code",
   "execution_count": 18,
   "metadata": {},
   "outputs": [],
   "source": [
    "# change values to redraw in the prev element - this dict is to help in column navigation\n",
    "my_test_row = {'id': 594569,\n",
    " 'host_id': 2701693,\n",
    " 'host_since': 78.0,\n",
    " 'host_is_superhost': 0,\n",
    " 'latitude': 51.57959714916211,\n",
    " 'longitude': 0.16809507714056368,\n",
    " 'is_location_exact': 1,\n",
    " 'accommodates': 1,\n",
    " 'bathrooms': 0.0,\n",
    " 'bedrooms': 1.0,\n",
    " 'beds': 1.0,\n",
    " 'security_deposit': 0.0,\n",
    " 'cleaning_fee': 0.0,\n",
    " 'guests_included': 1,\n",
    " 'extra_people': 25.0,\n",
    " 'minimum_nights': 2.0,\n",
    " 'bathrooms_nan': False,\n",
    " 'cleaning_fee_nan': False,\n",
    " 'bedrooms_nan': False,\n",
    " 'host_since_nan': False,\n",
    " 'security_deposit_nan': False,\n",
    " 'beds_nan': False,\n",
    " 'host_is_superhost_nan': False,\n",
    " 'property_type_apartment': 0,\n",
    " 'property_type_bed and breakfast': 0,\n",
    " 'property_type_condominium': 0,\n",
    " 'property_type_else': 0,\n",
    " 'property_type_house': 1,\n",
    " 'property_type_loft': 0,\n",
    " 'property_type_serviced apartment': 0,\n",
    " 'property_type_townhouse': 0,\n",
    " 'room_type_Entire home/apt': 0,\n",
    " 'room_type_Private room': 1,\n",
    " 'room_type_Shared room': 0,\n",
    " 'neighbourhood_cleansed_Barking and Dagenham': 0,\n",
    " 'neighbourhood_cleansed_Barnet': 0,\n",
    " 'neighbourhood_cleansed_Bexley': 0,\n",
    " 'neighbourhood_cleansed_Brent': 0,\n",
    " 'neighbourhood_cleansed_Bromley': 0,\n",
    " 'neighbourhood_cleansed_Camden': 0,\n",
    " 'neighbourhood_cleansed_City of London': 0,\n",
    " 'neighbourhood_cleansed_Croydon': 0,\n",
    " 'neighbourhood_cleansed_Ealing': 0,\n",
    " 'neighbourhood_cleansed_Enfield': 0,\n",
    " 'neighbourhood_cleansed_Greenwich': 0,\n",
    " 'neighbourhood_cleansed_Hackney': 0,\n",
    " 'neighbourhood_cleansed_Hammersmith and Fulham': 0,\n",
    " 'neighbourhood_cleansed_Haringey': 0,\n",
    " 'neighbourhood_cleansed_Harrow': 0,\n",
    " 'neighbourhood_cleansed_Havering': 1,\n",
    " 'neighbourhood_cleansed_Hillingdon': 0,\n",
    " 'neighbourhood_cleansed_Hounslow': 0,\n",
    " 'neighbourhood_cleansed_Islington': 0,\n",
    " 'neighbourhood_cleansed_Kensington and Chelsea': 0,\n",
    " 'neighbourhood_cleansed_Kingston upon Thames': 0,\n",
    " 'neighbourhood_cleansed_Lambeth': 0,\n",
    " 'neighbourhood_cleansed_Lewisham': 0,\n",
    " 'neighbourhood_cleansed_Merton': 0,\n",
    " 'neighbourhood_cleansed_Newham': 0,\n",
    " 'neighbourhood_cleansed_Redbridge': 0,\n",
    " 'neighbourhood_cleansed_Richmond upon Thames': 0,\n",
    " 'neighbourhood_cleansed_Southwark': 0,\n",
    " 'neighbourhood_cleansed_Sutton': 0,\n",
    " 'neighbourhood_cleansed_Tower Hamlets': 0,\n",
    " 'neighbourhood_cleansed_Waltham Forest': 0,\n",
    " 'neighbourhood_cleansed_Wandsworth': 0,\n",
    " 'neighbourhood_cleansed_Westminster': 0,\n",
    " 'cancellation_policy_flexible': 0,\n",
    " 'cancellation_policy_moderate': 0,\n",
    " 'cancellation_policy_strict': 1,\n",
    " '24-hour check-in': 0,\n",
    " 'air conditioning': 0,\n",
    " 'bathtub': 0,\n",
    " 'bed linens': 0,\n",
    " 'breakfast': 0,\n",
    " 'buzzer/wireless intercom': 0,\n",
    " 'cable tv': 0,\n",
    " 'carbon monoxide detector': 0,\n",
    " 'children’s books and toys': 0,\n",
    " 'coffee maker': 0,\n",
    " 'cooking basics': 0,\n",
    " 'crib': 0,\n",
    " 'dishes and silverware': 0,\n",
    " 'dishwasher': 0,\n",
    " 'dryer': 0,\n",
    " 'elevator': 0,\n",
    " 'ethernet connection': 0,\n",
    " 'extra pillows and blankets': 0,\n",
    " 'family/kid friendly': 0,\n",
    " 'fire extinguisher': 0,\n",
    " 'first aid kit': 0,\n",
    " 'flat path to front door': 0,\n",
    " 'free parking on premises': 0,\n",
    " 'free street parking': 0,\n",
    " 'garden or backyard': 0,\n",
    " 'gym': 0,\n",
    " 'hair dryer': 1,\n",
    " 'hangers': 0,\n",
    " 'high chair': 0,\n",
    " 'host greets you': 1,\n",
    " 'hot tub': 0,\n",
    " 'hot water': 1,\n",
    " 'indoor fireplace': 1,\n",
    " 'internet': 1,\n",
    " 'iron': 0,\n",
    " 'laptop friendly workspace': 0,\n",
    " 'lock on bedroom door': 0,\n",
    " 'lockbox': 0,\n",
    " 'long term stays allowed': 0,\n",
    " 'luggage dropoff allowed': 0,\n",
    " 'microwave': 0,\n",
    " 'other': 0,\n",
    " 'pack ’n play/travel crib': 0,\n",
    " 'paid parking off premises': 0,\n",
    " 'paid parking on premises': 1,\n",
    " 'patio or balcony': 0,\n",
    " 'pets allowed': 0,\n",
    " 'private entrance': 0,\n",
    " 'private living room': 0,\n",
    " 'refrigerator': 0,\n",
    " 'safety card': 0,\n",
    " 'self check-in': 0,\n",
    " 'shampoo': 1,\n",
    " 'single level home': 0,\n",
    " 'smoke detector': 1,\n",
    " 'smoking allowed': 0,\n",
    " 'step-free access': 0,\n",
    " 'stove': 0,\n",
    " 'tv': 0,\n",
    " 'washer': 1,\n",
    " 'well-lit path to entrance': 0,\n",
    " 'wide doorway': 0,\n",
    " 'wide hallway clearance': 0,\n",
    " 'perc_free': 0.7835616438356164,\n",
    " 'host_houses': 1,\n",
    " 'review_sentiment_neg': 0,\n",
    " 'review_sentiment_neu': 1,\n",
    " 'review_sentiment_pos': 0}"
   ]
  },
  {
   "cell_type": "code",
   "execution_count": 19,
   "metadata": {},
   "outputs": [],
   "source": [
    "def compute_distance(stations_lat, stations_lon, point_lat, point_lon):\n",
    "    R = 6373.0\n",
    "\n",
    "    lat1, lon1 = np.radians([stations_lat, stations_lon])\n",
    "    lat2, lon2 = np.radians([point_lat, point_lon])\n",
    "    a = np.sin((lat2-lat1)/2.0)**2 + np.cos(lat1) * np.cos(lat2) * np.sin((lon2-lon1)/2.0)**2\n",
    "\n",
    "    distances = R * 2 * np.arcsin(np.sqrt(a))\n",
    "    return np.min(distances)"
   ]
  },
  {
   "cell_type": "code",
   "execution_count": 20,
   "metadata": {},
   "outputs": [],
   "source": [
    "together['distances'] = together.apply(lambda sample: compute_distance(\n",
    "    my_test_row['latitude'], my_test_row['longitude'], sample.latitude, sample.longitude), axis=1) "
   ]
  },
  {
   "cell_type": "code",
   "execution_count": 21,
   "metadata": {},
   "outputs": [],
   "source": [
    "my_test_row = pd.DataFrame.from_dict(my_test_row, orient='index').T\n",
    "my_test_row.drop(columns=['id'], inplace=True)"
   ]
  },
  {
   "cell_type": "code",
   "execution_count": 22,
   "metadata": {},
   "outputs": [],
   "source": [
    "for i in test.columns:\n",
    "    if i != 'price' and i != 'source_type': \n",
    "        my_test_row[i] = my_test_row[i].astype(test['elevator'].dtype)"
   ]
  },
  {
   "cell_type": "code",
   "execution_count": 23,
   "metadata": {},
   "outputs": [],
   "source": [
    "my_price = bst.predict( my_test_row)"
   ]
  },
  {
   "cell_type": "code",
   "execution_count": 38,
   "metadata": {},
   "outputs": [],
   "source": [
    "neighboors = 150\n",
    "selected = together.nsmallest(neighboors, 'distances')[['latitude', 'longitude', 'source_type', 'price']]\n",
    "\n",
    "# star marker\n",
    "def create_star(sourse):\n",
    "    if sourse == 'predicted':\n",
    "        icon = BeautifyIcon(\n",
    "        icon='star',\n",
    "        inner_icon_style='color:blue;font-size:10px;',\n",
    "        background_color='transparent',\n",
    "        border_color='transparent')\n",
    "        \n",
    "    else:\n",
    "        icon = BeautifyIcon(\n",
    "        icon_shape='rectangle-dot', \n",
    "        border_color='green', \n",
    "        border_width=5)\n",
    "        \n",
    "    return icon\n",
    "\n",
    "map2 = folium.Map(location=[my_test_row['latitude'], my_test_row['longitude']], zoom_start=20)\n",
    "\n",
    "icon_circle = BeautifyIcon(\n",
    "    icon_shape='circle-dot', \n",
    "    border_color='red', \n",
    "    border_width=10,\n",
    ")\n",
    "\n",
    "\n",
    "folium.Marker([my_test_row['latitude'], my_test_row['longitude']], \n",
    "              tooltip=my_price, icon=icon_circle).add_to(map2)\n",
    "for _, row in selected.iterrows():  \n",
    "    folium.Marker([row['latitude'], row['longitude']], \n",
    "                  tooltip=str(row['price']), icon=create_star(row['source_type'])).add_to(map2)\n",
    "    \n"
   ]
  },
  {
   "cell_type": "code",
   "execution_count": null,
   "metadata": {},
   "outputs": [],
   "source": [
    "map2"
   ]
  }
 ],
 "metadata": {
  "kernelspec": {
   "display_name": "Python 3",
   "language": "python",
   "name": "python3"
  },
  "language_info": {
   "codemirror_mode": {
    "name": "ipython",
    "version": 3
   },
   "file_extension": ".py",
   "mimetype": "text/x-python",
   "name": "python",
   "nbconvert_exporter": "python",
   "pygments_lexer": "ipython3",
   "version": "3.7.2"
  }
 },
 "nbformat": 4,
 "nbformat_minor": 2
}
